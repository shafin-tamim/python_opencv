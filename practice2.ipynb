{
 "cells": [
  {
   "cell_type": "code",
   "execution_count": 1,
   "metadata": {},
   "outputs": [],
   "source": [
    "import cv2\n",
    "import numpy as np\n",
    "import sys\n",
    "import os"
   ]
  },
  {
   "cell_type": "code",
   "execution_count": 8,
   "metadata": {},
   "outputs": [
    {
     "name": "stdout",
     "output_type": "stream",
     "text": [
      "(842, 474, 3)\n"
     ]
    }
   ],
   "source": [
    "#img= cv2.imread('F:\\Data Analysis\\Language\\python_opencv\\image\\pic1.jpg',1) # color image\n",
    "#img= cv2.imread('F:\\Data Analysis\\Language\\python_opencv\\image\\pic1.jpg',0) # gray scale image\n",
    "img= cv2.imread('F:\\Data Analysis\\Language\\python_opencv\\image\\pic1.jpg',-1) # color image with alpha channel\n",
    "#print(img)\n",
    "print(img.shape)\n",
    "img=cv2.resize(img,(500,500))\n",
    "cv2.imshow('image',img)\n",
    "cv2.waitKey(0)\n",
    "cv2.destroyAllWindows()\n",
    "\n"
   ]
  },
  {
   "cell_type": "markdown",
   "metadata": {},
   "source": [
    "# Text over image"
   ]
  },
  {
   "cell_type": "code",
   "execution_count": 25,
   "metadata": {},
   "outputs": [],
   "source": [
    "import cv2\n",
    "\n",
    "# Image load\n",
    "img_get = cv2.imread(r'F:\\Data Analysis\\Language\\python_opencv\\image\\pic1.jpg')\n",
    "\n",
    "# Resize image\n",
    "img_get = cv2.resize(img_get, (500, 600))\n",
    "\n",
    "# Put text\n",
    "txt = cv2.putText(\n",
    "    img=img_get,\n",
    "    text=\"Dure_Fishan\",\n",
    "    org=(30, 80),\n",
    "    fontFace=cv2.FONT_HERSHEY_DUPLEX,  # Correct parameter name\n",
    "    fontScale=2,\n",
    "    color=(0, 0, 255),\n",
    "    thickness=3,\n",
    "    lineType=cv2.LINE_AA,\n",
    "    bottomLeftOrigin=False\n",
    ")\n",
    "txt = cv2.putText(\n",
    "    img=img_get,\n",
    "    text=\"Dure_Fishan\",\n",
    "    org=(30, 90),\n",
    "    fontFace=cv2.FONT_HERSHEY_DUPLEX,  # Correct parameter name\n",
    "    fontScale=2,\n",
    "    color=(255, 0, 255),\n",
    "    thickness=3,\n",
    "    lineType=cv2.LINE_AA,\n",
    "    bottomLeftOrigin=True\n",
    ")\n",
    "\n",
    "\n",
    "# Show image\n",
    "cv2.imshow('image', txt)\n",
    "cv2.waitKey(0)\n",
    "cv2.destroyAllWindows()\n",
    "\n",
    "#cv2.destroyWindows()"
   ]
  },
  {
   "cell_type": "code",
   "execution_count": null,
   "metadata": {},
   "outputs": [],
   "source": []
  }
 ],
 "metadata": {
  "kernelspec": {
   "display_name": "Python 3",
   "language": "python",
   "name": "python3"
  },
  "language_info": {
   "codemirror_mode": {
    "name": "ipython",
    "version": 3
   },
   "file_extension": ".py",
   "mimetype": "text/x-python",
   "name": "python",
   "nbconvert_exporter": "python",
   "pygments_lexer": "ipython3",
   "version": "3.11.5"
  }
 },
 "nbformat": 4,
 "nbformat_minor": 2
}
