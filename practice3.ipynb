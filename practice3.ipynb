{
 "cells": [
  {
   "cell_type": "markdown",
   "metadata": {},
   "source": [
    "# Drow Line & Rectangle Box"
   ]
  },
  {
   "cell_type": "code",
   "execution_count": 1,
   "metadata": {},
   "outputs": [],
   "source": [
    "import cv2\n",
    "import numpy as np\n",
    "import sys\n",
    "import os"
   ]
  },
  {
   "cell_type": "code",
   "execution_count": 25,
   "metadata": {},
   "outputs": [],
   "source": [
    "old_img=cv2.imread(\"F:\\Data Analysis\\Language\\python_opencv\\image\\pic1.jpg\")\n",
    "old_img = cv2.resize(old_img,(500,700))\n",
    "\n",
    "new_img= cv2.line(img = old_img, pt1 =(110,100) , pt2 = (250,100) , color = (0,255,0), thickness = 2, lineType = 4)\n",
    "\n",
    "cv2.imshow(\"image\",new_img)\n",
    "cv2.waitKey(0)\n",
    "cv2.destroyAllWindows()"
   ]
  },
  {
   "cell_type": "code",
   "execution_count": 72,
   "metadata": {},
   "outputs": [],
   "source": [
    "old_img=cv2.imread(\"F:\\Data Analysis\\Language\\python_opencv\\image\\pic1.jpg\")\n",
    "old_img = cv2.resize(old_img,(500,700))\n",
    "\n",
    "txt_img = cv2.putText(img = old_img, text = \"Dure Fishan\", org = (90,20), fontFace = 2, fontScale = 1, \n",
    "                  color = (0,255,0), thickness = 2, lineType = 4 , bottomLeftOrigin = False)\n",
    "\n",
    "new_img= cv2.rectangle(img = txt_img, pt1 =(95,20) , pt2 = (340,350) , color = (0,255,0), thickness = 2, lineType = 4)\n",
    "\n",
    "cv2.imshow(\"image\",new_img)\n",
    "cv2.waitKey(0)\n",
    "cv2.destroyAllWindows()"
   ]
  },
  {
   "cell_type": "code",
   "execution_count": null,
   "metadata": {},
   "outputs": [],
   "source": []
  },
  {
   "cell_type": "code",
   "execution_count": null,
   "metadata": {},
   "outputs": [],
   "source": []
  }
 ],
 "metadata": {
  "kernelspec": {
   "display_name": "Python 3",
   "language": "python",
   "name": "python3"
  },
  "language_info": {
   "codemirror_mode": {
    "name": "ipython",
    "version": 3
   },
   "file_extension": ".py",
   "mimetype": "text/x-python",
   "name": "python",
   "nbconvert_exporter": "python",
   "pygments_lexer": "ipython3",
   "version": "3.11.5"
  }
 },
 "nbformat": 4,
 "nbformat_minor": 2
}
